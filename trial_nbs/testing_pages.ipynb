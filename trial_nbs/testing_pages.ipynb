{
 "cells": [
  {
   "cell_type": "code",
   "execution_count": 1,
   "metadata": {},
   "outputs": [],
   "source": [
    "from pathlib import Path\n",
    "from loguru import logger\n",
    "from typing import List\n",
    "from tqdm import tqdm\n",
    "from llama_index.core import SimpleDirectoryReader, Document\n",
    "\n",
    "DATA_DIR = Path(\"D:\\\\NIPL2093\\\\work\\\\long_doc_summarization\\\\data\\\\\")\n",
    "TEST_FILE = \"37657_2017_1_1501_39247_Judgement_19-Oct-2022_149pg.pdf\"\n",
    "test_file_path = DATA_DIR / TEST_FILE"
   ]
  },
  {
   "cell_type": "code",
   "execution_count": 2,
   "metadata": {},
   "outputs": [],
   "source": [
    "def read_pdf_file(file_path: str | Path, use_llama_parse: bool = False) -> List[Document]:\n",
    "    \"\"\"\n",
    "    Read a single PDF file and return its content as a list of Document objects.\n",
    "\n",
    "    Args:\n",
    "    file_path (str): Path to the PDF file.\n",
    "    use_llama_parse (bool): Whether to use LlamaParse for parsing.\n",
    "\n",
    "    Returns:\n",
    "    List[Document]: List of Document objects containing the PDF content.\n",
    "    \"\"\"\n",
    "    if use_llama_parse:\n",
    "        parser = LlamaParse(result_type=\"markdown\")\n",
    "        file_extractor = {\".pdf\": parser}\n",
    "    logger.info(f\"Attempting to read PDF file: {file_path}\")\n",
    "\n",
    "    try:\n",
    "        if use_llama_parse:\n",
    "            documents = SimpleDirectoryReader(\n",
    "                input_files=[file_path], file_extractor=file_extractor\n",
    "            ).load_data()\n",
    "        else:\n",
    "            documents = SimpleDirectoryReader(input_files=[file_path]).load_data()\n",
    "        \n",
    "        if documents:\n",
    "            # Apply preprocessing to each document\n",
    "            # for i, doc in tqdm(enumerate(documents), desc=\"Pre-processing documents\"):\n",
    "            #     documents[i].text = preprocess_citations(doc.text)\n",
    "            \n",
    "            logger.success(f\"Successfully read and preprocessed PDF file: {file_path}\")\n",
    "            logger.debug(f\"Number of documents: {len(documents)}\")\n",
    "            logger.debug(f\"First document sample: {documents[0].text[:100]}\")\n",
    "\n",
    "            # Save the markdown content to a file\n",
    "            output_dir = DATA_DIR / \"converted_markdown\"\n",
    "            output_dir.mkdir(parents=True, exist_ok=True)\n",
    "            output_file = output_dir / f\"{Path(file_path).stem}.md\"\n",
    "\n",
    "            with open(output_file, \"w\", encoding=\"utf-8\") as f:\n",
    "                for doc in documents:\n",
    "                    f.write(doc.text + \"\\n\\n\")\n",
    "\n",
    "            logger.info(f\"Saved markdown content to: {output_file}\")\n",
    "            return documents\n",
    "        else:\n",
    "            logger.warning(f\"PDF file is empty: {file_path}\")\n",
    "            return []\n",
    "    except Exception as e:\n",
    "        logger.error(f\"Error reading PDF file {file_path}: {str(e)}\")\n",
    "        return []"
   ]
  },
  {
   "cell_type": "code",
   "execution_count": 3,
   "metadata": {},
   "outputs": [
    {
     "name": "stderr",
     "output_type": "stream",
     "text": [
      "\u001b[32m2024-10-24 14:17:08.804\u001b[0m | \u001b[1mINFO    \u001b[0m | \u001b[36m__main__\u001b[0m:\u001b[36mread_pdf_file\u001b[0m:\u001b[36m15\u001b[0m - \u001b[1mAttempting to read PDF file: D:\\NIPL2093\\work\\long_doc_summarization\\data\\37657_2017_1_1501_39247_Judgement_19-Oct-2022_149pg.pdf\u001b[0m\n",
      "\u001b[32m2024-10-24 14:17:12.236\u001b[0m | \u001b[32m\u001b[1mSUCCESS \u001b[0m | \u001b[36m__main__\u001b[0m:\u001b[36mread_pdf_file\u001b[0m:\u001b[36m30\u001b[0m - \u001b[32m\u001b[1mSuccessfully read and preprocessed PDF file: D:\\NIPL2093\\work\\long_doc_summarization\\data\\37657_2017_1_1501_39247_Judgement_19-Oct-2022_149pg.pdf\u001b[0m\n",
      "\u001b[32m2024-10-24 14:17:12.236\u001b[0m | \u001b[34m\u001b[1mDEBUG   \u001b[0m | \u001b[36m__main__\u001b[0m:\u001b[36mread_pdf_file\u001b[0m:\u001b[36m31\u001b[0m - \u001b[34m\u001b[1mNumber of documents: 149\u001b[0m\n",
      "\u001b[32m2024-10-24 14:17:12.236\u001b[0m | \u001b[34m\u001b[1mDEBUG   \u001b[0m | \u001b[36m__main__\u001b[0m:\u001b[36mread_pdf_file\u001b[0m:\u001b[36m32\u001b[0m - \u001b[34m\u001b[1mFirst document sample:  1 \n",
      "REPORTABLE  \n",
      " \n",
      "IN THE SUPREME COURT OF INDIA  \n",
      "     CIVIL APPELLATE JURISDICTION  \n",
      " \n",
      "CIVIL APPEA\u001b[0m\n",
      "\u001b[32m2024-10-24 14:17:12.253\u001b[0m | \u001b[1mINFO    \u001b[0m | \u001b[36m__main__\u001b[0m:\u001b[36mread_pdf_file\u001b[0m:\u001b[36m43\u001b[0m - \u001b[1mSaved markdown content to: D:\\NIPL2093\\work\\long_doc_summarization\\data\\converted_markdown\\37657_2017_1_1501_39247_Judgement_19-Oct-2022_149pg.md\u001b[0m\n"
     ]
    }
   ],
   "source": [
    "documents: List[Document] = read_pdf_file(str(test_file_path))"
   ]
  },
  {
   "cell_type": "code",
   "execution_count": 12,
   "metadata": {},
   "outputs": [
    {
     "data": {
      "text/plain": [
       "' 1 \\nREPORTABLE  \\n \\nIN THE SUPREME COURT OF INDIA  \\n     CIVIL APPELLATE JURISDICTION  \\n \\nCIVIL APPEAL NO. 21762 OF 2017  \\n \\nASSISTANT COMMISSIONER OF  \\nINCOME TAX (EXEMPTIONS)            APPELLANT(S)  \\n \\nVERSUS  \\n \\nAHMEDABAD URBAN DEVELOPMENT  \\nAUTHORITY                   RESPONDENT(S)  \\n \\nWITH  \\n \\nC.A. No. 8193/2012; C.A. No. 5057/2012; C.A. No. 5058/2014; C.A. No. 9974/2018; C.A. No. \\n5056/2012; C.A. No. 4196/2015; C.A. No. 4374/2015; C.A. No. 9380/2017; C.A. No. \\n13071/2017; C.A. No. 12058/2017; C.A. No. 16375/2017; C.A. No. 12869/2017; C.A. No. \\n17527/2017; C.A. No. 21845/2017; C.A. No. 5719/2018; C.A. No. 9886/2018; C.A. No. \\n9200/2018; C.A. No. 9860/2018; C.A. No. 10114/2018; C.A. No. 1643/2019; C.A. No. \\n3596/2018; C.A. No. 6762/2018; C.A. No. 3972/2018; C.A. No. 3343/2018; C.A. No. 3359/2018; \\nC.A. No. 3971/2018; C.A. No. 3347/2018; C.A. No. 6489/2018; C.A. No. 10598/2018; C.A. No. \\n7643/2018; C.A. No. 8321/2018; C.A. No. 8554/2018; C.A. No. 9172/2018; C.A. No. \\n10406/2018; C.A. No. 11259/2018; C.A. No. 11884/2018; C.A. No. 226/2019; C.A. No. \\n170/2019;  C.A. No. 2047/2019; C.A. No. 2335/2019; C.A. No. 3971/2019; C.A. No. 4449/2019; \\nC.A. No. 4957/2019; C.A. No. 213/2020; C.A. No. 783/2020; C.A. No. 4430/2021; C.A. No. \\n2477/2021; C.A. No. 2478/2021; C.A. No. _____/2022 @ SLP(C) No. 23975/2012; C.A. No. \\n_____/2022 @ SLP(C) No. 15547/2013; C.A. No. ______/2022 @ SLP(C) No. 15040/2019; C.A. \\nNo. _____/2022 @ SLP (C) No. _____/2022 @ Diary No(s). 39525/2017; C.A. No. _____/2022 \\n@ SLP(C) No. 14574/2019; C.A. No. _____/2022 @ SLP (C) No. _____/2022 @ Diary No(s). \\n16597/2020; C.A. No. _____/2022 @ SLP(C) No. 10912/2018; C.A. No. _____/2022 @ SLP(C) \\nNo. 12304/2018; C.A. No. _____/2022 @ SLP (C) No. _____/2022 @ Diary No(s). 44856/2018; \\nC.A. No. _____/2022 @ SLP(C) No. 6553/2019; C.A. No. _____/2022 @ SLP (C) No. \\n____ _/2022 @ Diary No(s). 15525/2019; C.A. No. _____/2022 @ SLP(C) No. 30597/2018; C.A. \\nNo. _____/2022 @ SLP (C) No. _____/2022 @ Diary No(s). 5683/2019; C.A. No. _____/2022 '"
      ]
     },
     "execution_count": 12,
     "metadata": {},
     "output_type": "execute_result"
    }
   ],
   "source": [
    "documents[0].text"
   ]
  },
  {
   "cell_type": "code",
   "execution_count": 6,
   "metadata": {},
   "outputs": [
    {
     "data": {
      "text/plain": [
       "' 4 \\n1. Leave grante d in all matters where leave has not already been granted.  \\nC.A. No. 21762/2017 ( Assistant Commission of Income Tax, Exemptions v. \\nAhmedabad Urban Development Authority ) is taken as the lead matter .  \\n2.  Religious and charitable trusts have existed in one form or the other, tracing \\ntheir origins to the instinct of benevolence, which is part of human nature.  Indian \\nphilanthropy has enriched its cultural heritage, particu larly in catering to the \\neducational, medical, socio -economic, and religious needs of the people. Here its \\nrole has been supplementary to the efforts of the State, which has recognized the \\npublic utility of this impulse, and granted tax exemptions.  Indian income -tax laws \\nhave favoured charities, even granted preferential treatment since 1886. The law, \\nwhile granting exemption to income from religious and charitable  trusts has taken \\neffective measures to minimise misuse of trust funds. As a result, a \\ncharita ble trust loses tax exemption if certain provisions are not complied with, \\nand if its activities  do not fall under Section 10 of the Act . Such trusts also have \\nto apply their income to the charitable  objects within a specified period, maintain \\nproper audited accounts, and invest or utilise funds in a manner so that no benefit \\nis derived by the settlor, trustees, their relatives, or other persons.1  \\n3. The scope and amplitude of the definition “charitable purpose” under the \\nIncome Tax Act, 1961 (hereaf ter “Income Tax Act\" or “the IT Act”) has engaged \\nthe courts’ (including that of this court) attention on myriad occasions. The \\nexpression “not involving the carrying on of any activity for profit”  in the last \\nlimb of the definition [Section 2(15) prior to  amendment by Finance Act, 1983] \\nwas the subject of debate in no less than five judgments of this court (including \\nthat of a five -member bench).  \\n4. In these batch of appeals and special leave petitions, the primary question \\nwhich falls for consideration i s the correct interpretation of the proviso to Section \\n \\n1 Sections 11, 12, 12 -A and 13 of the Income -tax Act, 1961.  '"
      ]
     },
     "execution_count": 6,
     "metadata": {},
     "output_type": "execute_result"
    }
   ],
   "source": [
    "documents[3].text"
   ]
  },
  {
   "cell_type": "code",
   "execution_count": 8,
   "metadata": {},
   "outputs": [
    {
     "data": {
      "text/plain": [
       "' 5 \\n2(15)2 of the IT Act  introduced by amendment w.e.f. 01.04.2009. It is necessary, \\nat this stage, to notice that the IT Act visualized three kinds of charitable \\npurposes: medical relief, education, and relief for the poor – which are described \\nhereafter as “per se purposes” . To this list, Parliament has, by amendments, \\nadded other categories, such as preservation of environment (including \\nwatersheds, forests, and wildlife) and preservation of monuments or places or \\nobjects of artistic or historic interest, and yoga. The last – or the residual purpose \\nincluded by the definition - is “advancement of any other object of general public \\nutility”  (hereafter referred to as  “GPU category”), which is the subject of \\ninterpretation in the present case.  \\n5. The Director General of Income Tax f or exemptions, Commissioner of \\nIncome Tax (“CIT”) in various states, and other officials of the Income tax \\ndepartment (hereafter compendiously referred to as “the revenue”) have appealed \\nthe decisions of various High Courts, which have held that the carryi ng on of any \\ntrade, commerce , or business, is not a per se bar or disqualification for a GPU \\ncategory charitable trust to claim to be such, precluding its tax -exempt status \\nunder the IT Act.  \\nI. Brief history of legislative changes and this court’s interpreta tion \\nA. Provisions of the Income Tax Act, 1922  \\n6. The provisions of the erstwhile Income Tax Act, 1922 (hereafter “the old \\nAct”) enabled tax exemption claims by trusts for their income from business \\nactivity, provided trust s were created thereon.  The Privy Council in  The Trustees \\n \\n2 “charitable purpose” includes relief of the poor, education, medical relief, preservation of environment \\n(including watersheds, forests and wildlife) and preservation of monuments or places or objects of artistic or \\nhistoric interest, and the advancement of any other object of general public utility:  \\nProvided that the advancement of any other object of general public utility shall not be a charitable \\npurpose, if it involves the carrying on of any activity in the nature of trad e, commerce or business, or any activity \\nof rendering any service in relation to any trade, commerce or business, for a cess or fee or any other \\nconsideration, irrespective of the nature of use or application, or retention, of the income from such activity :..…”  \\n(emphasis supplied)  '"
      ]
     },
     "execution_count": 8,
     "metadata": {},
     "output_type": "execute_result"
    }
   ],
   "source": [
    "documents[4].text"
   ]
  },
  {
   "cell_type": "code",
   "execution_count": 9,
   "metadata": {},
   "outputs": [
    {
     "data": {
      "text/plain": [
       "' 124 \\nthese state cricket associations with the Board of Cricket Control of India (BCCI), \\nthe amounts received by these associations from BCCI were in the nature of \\nconsideration or fees, for granting media right s, and collecting their share, among \\nother things. This amounted to a business or commercial activity. It would, in this \\ncontext, be useful to quote the observations set out in the ITAT’s order (which \\nwere part of the commissioner’s order). The Commissione r had taken note of \\nassessment proceedings in relation to BCCI, and set out its submissions:  \\n“9.7.2 The AO of BCCI, based on the communication of DIT(E), Mumbai, has \\nnot granted benefit of section 11 & 12 of the Act to BCCI. The stand taken by \\nBCCI during its assessment proceedings is mentioned below. The BCCI vide \\nits submission dated 03/12/2012 to the AO has explained its relationship with \\nState Cricket Association as follows: - \\n\"1. BCCI is society registered under the Tamil Nadu Societies Registrat ion \\nAct. It was formed in the year 1929 with the object of promotion and \\ndevelopment of cricket in India and is a member of the International Cricket \\nCouncil (ICC) the regulatory body for world cricket. As a member of ICC, \\nBCCI represents India in bilatera l tours between member countries and in \\nICC tournaments such as the World Cup.  \\n2. BCCI has 30 members out of whom 25 are state cricket associations, 2 are \\nprivate clubs and 3 are Central Government Institutions. BCCI does not own \\nor manage the infrastructu re and facilities that are required for cricket. It \\nencourages and oversees the various state associations to promote the game, \\nbuild the required infrastructure organize tournaments, leagues, coaching \\ncamps etc. in their respective states. Whenever a fore ign team visits India, the \\ninternational matches such as Test and ODI are allotted by BCCI to the State \\nCricket Associations by a rotation policy. The matches are conducted and \\nmanaged by the respective state associations and over time, arrangements \\nhave e volved about the respective responsibilities, rights, shares of revenue \\netc. These have evolved in order to promote co -operation and unity among \\nthe member associations and by applying the principles of equity and \\nfairness, for which the sport of cricket i s renowned.\"  \\n9.7.3 The BCCI in its submission dated 21/1/2013 earned subsidy paid to \\nSCAs and TV Subvention as stated as follows: - \\n \\n\"13.2  \\nPAYMENTS TO STATE ASSOCIATIONS  \\nDuring the year, BCCI has paid amounts to the state associations under the \\nhead \"TV, Subventions to Associations\". This represents payment of 70% of \\nthe revenue from sale of media rights to the state associations\".  \\nWhenever a foreign team visits India, the international matches such as Test \\nand ODI are allotted by BCCI to the state cr icket associations by a rotation \\npolicy. The matches are conducted and managed by the respective state \\nassociations. It is not possible for BCCI to conduct all these matches with its \\nown limited personnel. It is dependent on the state associations, their o ffice '"
      ]
     },
     "execution_count": 9,
     "metadata": {},
     "output_type": "execute_result"
    }
   ],
   "source": [
    "documents[123].text"
   ]
  },
  {
   "cell_type": "code",
   "execution_count": 10,
   "metadata": {},
   "outputs": [
    {
     "name": "stderr",
     "output_type": "stream",
     "text": [
      "\u001b[32m2024-10-24 14:33:55.838\u001b[0m | \u001b[1mINFO    \u001b[0m | \u001b[36m__main__\u001b[0m:\u001b[36mread_pdf_file\u001b[0m:\u001b[36m15\u001b[0m - \u001b[1mAttempting to read PDF file: D:\\NIPL2093\\work\\long_doc_summarization\\data\\51059_2023_1_1502_56228_Judgement_03-Oct-2024_148pg.pdf\u001b[0m\n",
      "\u001b[32m2024-10-24 14:33:57.843\u001b[0m | \u001b[32m\u001b[1mSUCCESS \u001b[0m | \u001b[36m__main__\u001b[0m:\u001b[36mread_pdf_file\u001b[0m:\u001b[36m30\u001b[0m - \u001b[32m\u001b[1mSuccessfully read and preprocessed PDF file: D:\\NIPL2093\\work\\long_doc_summarization\\data\\51059_2023_1_1502_56228_Judgement_03-Oct-2024_148pg.pdf\u001b[0m\n",
      "\u001b[32m2024-10-24 14:33:57.844\u001b[0m | \u001b[34m\u001b[1mDEBUG   \u001b[0m | \u001b[36m__main__\u001b[0m:\u001b[36mread_pdf_file\u001b[0m:\u001b[36m31\u001b[0m - \u001b[34m\u001b[1mNumber of documents: 148\u001b[0m\n",
      "\u001b[32m2024-10-24 14:33:57.844\u001b[0m | \u001b[34m\u001b[1mDEBUG   \u001b[0m | \u001b[36m__main__\u001b[0m:\u001b[36mread_pdf_file\u001b[0m:\u001b[36m32\u001b[0m - \u001b[34m\u001b[1mFirst document sample: 2024 INSC 753\n",
      "1 \n",
      " Reportable  \n",
      "IN THE SUPREME COURT OF INDIA  \n",
      "CIVIL ORIGINAL JURISDICTION  \n",
      " \n",
      " \n",
      "Wri\u001b[0m\n",
      "\u001b[32m2024-10-24 14:33:57.851\u001b[0m | \u001b[1mINFO    \u001b[0m | \u001b[36m__main__\u001b[0m:\u001b[36mread_pdf_file\u001b[0m:\u001b[36m43\u001b[0m - \u001b[1mSaved markdown content to: D:\\NIPL2093\\work\\long_doc_summarization\\data\\converted_markdown\\51059_2023_1_1502_56228_Judgement_03-Oct-2024_148pg.md\u001b[0m\n"
     ]
    }
   ],
   "source": [
    "test_file_path_2 = DATA_DIR / \"51059_2023_1_1502_56228_Judgement_03-Oct-2024_148pg.pdf\"\n",
    "documents_2 = read_pdf_file(test_file_path_2)"
   ]
  },
  {
   "cell_type": "code",
   "execution_count": 11,
   "metadata": {},
   "outputs": [
    {
     "data": {
      "text/plain": [
       "'PART I & II  \\n4 \\n I.  The Writ Petition  \\n1 The petitioner, Sukanya Shantha, a journalist,  wrote an article “From \\nSegregation to Labour, Manu’s Caste Law Governs the Indian Prison System”, which \\nwas published on 10 December 2020. The article highlighted caste- based \\ndiscrimination in the prisons in the country. The petitioner has sought directions for \\nrepeal of the offending provisions in State prison manuals.  By an order dated 10 July \\n2024, judgment was reserved.  We have heard a broad diversity of viewpoints from \\nacross India.  Besides counsel for the petitioner and the intervenor, the Additional \\nSolicitor General (ASG) of India  appeared for the Union of India. T he States of \\nJharkhand, Uttar Pradesh, West Bengal, Maharashtra, Orissa, Karnataka, Andhra Pradesh,  and Tamil Nadu appeared through counsel.  \\n \\nII. Submissions  \\n2 Dr. S. Muralidhar, Senior Advocate, appearing for the petitioner highlighted the \\nissue of caste -based discrimination in the prisons in India. It was  argued that various \\nState prison manuals sanction blatantly unconstitutional practices, which are violative \\nof Articles 14, 15, 17, 21, and 23 of the Constitution of India. Ms. Disha Wadekar  \\nreferred to a chart of provisions from different State prison manuals /rules  to highlight \\nvarious forms of discrimination in the prisons. She  highlighted that caste -based \\ndiscrimination  continues to persist in the prisons in the country with respect to: (i) The \\ndivision of manual labour; (ii) Segregation of barracks; and (iii) Provisions that discriminate against prisoners belonging to Denotified tribes and “habitual offenders”.  \\nShe further argued that the Model Prison Manual, 2016 does not address the \\nimpugned provisions related to caste discrimination inside prisons other than the '"
      ]
     },
     "execution_count": 11,
     "metadata": {},
     "output_type": "execute_result"
    }
   ],
   "source": [
    "documents_2[3].text"
   ]
  },
  {
   "cell_type": "code",
   "execution_count": 13,
   "metadata": {},
   "outputs": [
    {
     "data": {
      "text/plain": [
       "'PART XII  \\n78 \\n 128 The Court in State of Madhya Pradesh v. Ram Krishna Balothia216 held that \\nthe offences under PoA Act “constitute a separate class and cannot be compared with \\noffences under the Penal Code”. These offences are “committed to humiliate and subjugate members of Scheduled Castes and Scheduled Tribes with a view to keeping them in a state of servitude”, and “prevent them from leading a life of dignity and self -\\nrespect”. The Court quoted the Statement of Objects and Reasons of the Act to highlight that “when members of the Scheduled Castes and Scheduled Tribes assert their rig hts and demand statutory protection, vested interests try to cow them down \\nand terrorise them” if they are on anticipatory bail. For this reason, the Court dismissed a challenge to Section 18 of the PoA Act, which debarred the opportunity to seek anticipat ory bail in respect of offences committed under the Act.  \\n129 In Safai Karamchari Andolan v. Union of India ,\\n217 the Court noted that “the \\npractice of manual scavenging has to be brought to a close”. Making a “member of a \\nScheduled Caste or a Scheduled Tribe to do manual scavenging or employing or \\npermiting the employment of such member for such purpose” is a criminal offence under the PoA Act.\\n218 The Court took a step further, and held that “entering sewer lines \\nwithout safety gears should be made a crime even in emergency situations”. The Court declared that for a death in sewer lines, “compensation of Rs. 10 lakhs should be given to the family of the deceased”. It was emphasized that “Persons released from manual scavenging should not have to cross hurdles to receive” compensation or rehabilitation “due under the law”.  \\n \\n216 1995 INSC 99  \\n217 2014 (11) SCC 224  \\n218 Section 3(j), Scheduled Castes and Scheduled Tribes (Prevention of Atrocities) Act 1989  '"
      ]
     },
     "execution_count": 13,
     "metadata": {},
     "output_type": "execute_result"
    }
   ],
   "source": [
    "documents_2[77].text"
   ]
  },
  {
   "cell_type": "code",
   "execution_count": 14,
   "metadata": {},
   "outputs": [
    {
     "data": {
      "text/plain": [
       "\"PART IV  \\n10 \\n “India’s founding fathers and mothers established in \\nthe Constitution both the nation's ideals and the \\ninstitutions and processes for achieving them. The \\nideals were national unity and integrity and a democratic and equitable society. The new society was to be achieved through a social -economic \\nrevolution pursued with a democratic spirit using constitutional, democratic institutions. I later came to \\nthink of unity, social revolution, and democracy as \\nthree strands of a seamless web. The founders \\nbelieved that none of these goals was to be pursued, nor could any be achieved, separately . They were \\nmutually dependent and had to be sought \\ntogether.”\\n20 \\nMarc Galanter noted in this regard:  \\n“Independent India embraced equality as a cardinal \\nvalue against a background of elaborate, valued and \\nclearly perceived inequalities. Her constitutional \\npolicies to offset these proceeded from an awareness of the entrenched and cumulative nature \\nof group inequalities.”\\n21 \\nThe Constitution mandates the replacement of  fundamental wrongs with fundamental \\nrights.22 Through its provisions , it displaced a centuries -old cast e-based hierarchical \\nsocial order  “that did not recognize the principle of individual equality” .23 It negated the \\nideals of social hierarchy. The Constitution  is the embodiment of the aspirations of the \\nmillions of ca ste-oppressed communities, which hop ed for a better future in \\nindependent India.  To summarize , the “Constitution, by its very existence, was a social \\nrevolutionary statement.”24  \\n \\n20 Granville Austin,  The Indian Constitution: Cornerstone of a Nation , Oxford University Press (1966), p.  xi \\n21 Marc Galanter, Law and Society in Modern India, Oxford University Press (1989), 2018 Reprint, p. 185  \\n22 Granville Austin, The Indian Constitution: Cornerstone of a Nation , Oxford University Press (1966), p. x ii \\n23 Granville Austin, Working A Democratic Constitution : The Indian Experience, Oxford University Press (1999) , p. \\n7 \\n24 Granville Austin, The Indian Constitution: Cornerstone of a Nation , Oxford University Press (1966), p. x ii \""
      ]
     },
     "execution_count": 14,
     "metadata": {},
     "output_type": "execute_result"
    }
   ],
   "source": [
    "documents_2[9].text"
   ]
  },
  {
   "cell_type": "code",
   "execution_count": null,
   "metadata": {},
   "outputs": [],
   "source": []
  }
 ],
 "metadata": {
  "kernelspec": {
   "display_name": "long_doc_sum",
   "language": "python",
   "name": "python3"
  },
  "language_info": {
   "codemirror_mode": {
    "name": "ipython",
    "version": 3
   },
   "file_extension": ".py",
   "mimetype": "text/x-python",
   "name": "python",
   "nbconvert_exporter": "python",
   "pygments_lexer": "ipython3",
   "version": "3.12.0"
  }
 },
 "nbformat": 4,
 "nbformat_minor": 2
}
